{
 "cells": [
  {
   "cell_type": "code",
   "execution_count": 1,
   "metadata": {},
   "outputs": [],
   "source": [
    "import argparse\n",
    "import os\n",
    "import matplotlib.pyplot as plt\n",
    "import torch\n",
    "import torch.nn as nn\n",
    "import torchvision\n",
    "from torchvision import datasets\n",
    "from torchvision import transforms\n",
    "import torch.nn as nn\n",
    "import torch.optim as optim\n",
    "import matplotlib.pyplot as plt\n",
    "import numpy as np\n",
    "from torch.utils.data import Dataset, DataLoader\n",
    "import tqdm\n",
    "import tensorflow as tf\n",
    "from module import CNN"
   ]
  },
  {
   "cell_type": "code",
   "execution_count": 2,
   "metadata": {},
   "outputs": [],
   "source": [
    "import numpy as np\n",
    "from sklearn.model_selection import KFold\n",
    "import torch.nn.functional as F\n",
    "from torch.utils.data import DataLoader,ConcatDataset\n",
    "from torchvision import datasets, transforms\n",
    "from torch.optim.lr_scheduler import StepLR\n",
    "from sklearn.model_selection import KFold\n",
    "import tensorflow\n",
    "import keras\n",
    "from keras.datasets import mnist"
   ]
  },
  {
   "cell_type": "code",
   "execution_count": 3,
   "metadata": {},
   "outputs": [],
   "source": [
    "device='cuda' if torch.cuda.is_available() else 'cpu'\n",
    "\n",
    "torch.manual_seed(777)\n",
    "if device== 'cuda':\n",
    "    torch.cuda.manual_seed_all(777)"
   ]
  },
  {
   "cell_type": "code",
   "execution_count": 4,
   "metadata": {},
   "outputs": [],
   "source": [
    "batch_size=12\n",
    "\n",
    "train_data=datasets.MNIST('C:\\\\Users\\\\82104\\\\Downloads',train=True, download=True, transform=transforms.ToTensor())\n",
    "test_data=datasets.MNIST('C:\\\\Users\\\\82104\\\\Downloads',train=True, download=True, transform=transforms.ToTensor())\n",
    "\n",
    "train_loader=torch.utils.data.DataLoader(train_data, batch_size=batch_size, shuffle=True)\n",
    "test_loader=torch.utils.data.DataLoader(test_data,batch_size=batch_size)"
   ]
  },
  {
   "cell_type": "code",
   "execution_count": 5,
   "metadata": {},
   "outputs": [],
   "source": [
    "def test(data_loader,model):\n",
    "    model.eval()\n",
    "    n_predict=0\n",
    "    n_correct=0\n",
    "    with torch.no_grad():\n",
    "        for X,Y in tqdm.tqdm(data_loader,desc='data_loader'):\n",
    "            y_hat=model(X)\n",
    "            y_hat.argmax()\n",
    "            \n",
    "            _,predicted=torch.max(y_hat,1)\n",
    "            \n",
    "            n_predict += len(predicted)\n",
    "            n_correct += (Y==predicted).sum()\n",
    "            \n",
    "    accuracy=int(n_correct)/n_predict \n",
    "    print(f\"Accuracy:{accuracy}()\")"
   ]
  },
  {
   "cell_type": "code",
   "execution_count": 6,
   "metadata": {},
   "outputs": [],
   "source": [
    "model=CNN()\n",
    "criterion=torch.nn.CrossEntropyLoss()\n",
    "optimizer=torch.optim.Adam(model.parameters(),lr=0.01)\n",
    "scheduler=torch.optim.lr_scheduler.LambdaLR(optimizer=optimizer,lr_lambda=lambda epoch:0.95** epoch, last_epoch=-1)"
   ]
  },
  {
   "cell_type": "code",
   "execution_count": 10,
   "metadata": {},
   "outputs": [
    {
     "name": "stderr",
     "output_type": "stream",
     "text": [
      "100%|██████████████████████████████████████████████████████████████████████████████| 5000/5000 [01:20<00:00, 62.03it/s]\n",
      "data_loader:   1%|▍                                                                 | 31/5000 [00:00<00:34, 143.72it/s]"
     ]
    },
    {
     "name": "stdout",
     "output_type": "stream",
     "text": [
      "[Epoch:    1] cost = 0.30951963838623603\n",
      "Dev\n"
     ]
    },
    {
     "name": "stderr",
     "output_type": "stream",
     "text": [
      "data_loader: 100%|████████████████████████████████████████████████████████████████| 5000/5000 [00:30<00:00, 164.05it/s]\n",
      "  0%|                                                                                 | 5/5000 [00:00<01:46, 46.95it/s]"
     ]
    },
    {
     "name": "stdout",
     "output_type": "stream",
     "text": [
      "Accuracy:0.9493666666666667()\n"
     ]
    },
    {
     "name": "stderr",
     "output_type": "stream",
     "text": [
      "100%|██████████████████████████████████████████████████████████████████████████████| 5000/5000 [01:21<00:00, 61.63it/s]\n",
      "data_loader:   0%|▏                                                                 | 17/5000 [00:00<00:30, 164.10it/s]"
     ]
    },
    {
     "name": "stdout",
     "output_type": "stream",
     "text": [
      "[Epoch:    2] cost = 0.32325824822252114\n",
      "Dev\n"
     ]
    },
    {
     "name": "stderr",
     "output_type": "stream",
     "text": [
      "data_loader: 100%|████████████████████████████████████████████████████████████████| 5000/5000 [00:29<00:00, 166.73it/s]\n",
      "  0%|                                                                                 | 6/5000 [00:00<01:27, 57.36it/s]"
     ]
    },
    {
     "name": "stdout",
     "output_type": "stream",
     "text": [
      "Accuracy:0.9540833333333333()\n"
     ]
    },
    {
     "name": "stderr",
     "output_type": "stream",
     "text": [
      "100%|██████████████████████████████████████████████████████████████████████████████| 5000/5000 [01:20<00:00, 62.11it/s]\n",
      "data_loader:   0%|▎                                                                 | 19/5000 [00:00<00:27, 182.70it/s]"
     ]
    },
    {
     "name": "stdout",
     "output_type": "stream",
     "text": [
      "[Epoch:    3] cost = 0.32806205808218925\n",
      "Dev\n"
     ]
    },
    {
     "name": "stderr",
     "output_type": "stream",
     "text": [
      "data_loader: 100%|████████████████████████████████████████████████████████████████| 5000/5000 [00:29<00:00, 167.57it/s]\n",
      "  0%|                                                                                 | 6/5000 [00:00<01:24, 59.36it/s]"
     ]
    },
    {
     "name": "stdout",
     "output_type": "stream",
     "text": [
      "Accuracy:0.94535()\n"
     ]
    },
    {
     "name": "stderr",
     "output_type": "stream",
     "text": [
      "100%|██████████████████████████████████████████████████████████████████████████████| 5000/5000 [01:22<00:00, 60.27it/s]\n",
      "data_loader:   1%|▍                                                                 | 36/5000 [00:00<00:28, 173.57it/s]"
     ]
    },
    {
     "name": "stdout",
     "output_type": "stream",
     "text": [
      "[Epoch:    4] cost = 0.35024264570899505\n",
      "Dev\n"
     ]
    },
    {
     "name": "stderr",
     "output_type": "stream",
     "text": [
      "data_loader: 100%|████████████████████████████████████████████████████████████████| 5000/5000 [00:30<00:00, 162.28it/s]\n",
      "  0%|                                                                                 | 6/5000 [00:00<01:24, 59.15it/s]"
     ]
    },
    {
     "name": "stdout",
     "output_type": "stream",
     "text": [
      "Accuracy:0.9495333333333333()\n"
     ]
    },
    {
     "name": "stderr",
     "output_type": "stream",
     "text": [
      "100%|██████████████████████████████████████████████████████████████████████████████| 5000/5000 [01:23<00:00, 59.76it/s]\n",
      "data_loader:   0%|▏                                                                 | 18/5000 [00:00<00:28, 173.05it/s]"
     ]
    },
    {
     "name": "stdout",
     "output_type": "stream",
     "text": [
      "[Epoch:    5] cost = 0.34955915775969815\n",
      "Dev\n"
     ]
    },
    {
     "name": "stderr",
     "output_type": "stream",
     "text": [
      "data_loader: 100%|████████████████████████████████████████████████████████████████| 5000/5000 [00:31<00:00, 157.32it/s]"
     ]
    },
    {
     "name": "stdout",
     "output_type": "stream",
     "text": [
      "Accuracy:0.9532()\n"
     ]
    },
    {
     "name": "stderr",
     "output_type": "stream",
     "text": [
      "\n"
     ]
    }
   ],
   "source": [
    "training_epochs=5\n",
    "\n",
    "for epoch in range(training_epochs):\n",
    "    model.train()\n",
    "    cost=0\n",
    "    n_batches=0\n",
    "    for X,Y in tqdm.tqdm(train_loader):\n",
    "        optimizer.zero_grad()\n",
    "        y_hat=model(X)\n",
    "        loss=criterion(y_hat,Y)\n",
    "        loss.backward()\n",
    "        optimizer.step()\n",
    "        \n",
    "        cost+=loss.item()\n",
    "        n_batches+=1\n",
    "    \n",
    "    cost/=n_batches\n",
    "    print('[Epoch: {:>4}] cost = {:>9}'.format(epoch + 1, cost))\n",
    "    print('Dev')\n",
    "    test(test_loader,model)"
   ]
  },
  {
   "cell_type": "code",
   "execution_count": 11,
   "metadata": {},
   "outputs": [],
   "source": [
    "torch.save(model.state_dict(), 'model.pt')"
   ]
  },
  {
   "cell_type": "code",
   "execution_count": null,
   "metadata": {},
   "outputs": [],
   "source": []
  }
 ],
 "metadata": {
  "kernelspec": {
   "display_name": "Python 3",
   "language": "python",
   "name": "python3"
  },
  "language_info": {
   "codemirror_mode": {
    "name": "ipython",
    "version": 3
   },
   "file_extension": ".py",
   "mimetype": "text/x-python",
   "name": "python",
   "nbconvert_exporter": "python",
   "pygments_lexer": "ipython3",
   "version": "3.7.6"
  }
 },
 "nbformat": 4,
 "nbformat_minor": 5
}
